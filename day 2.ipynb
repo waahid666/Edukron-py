{
 "cells": [
  {
   "cell_type": "code",
   "execution_count": 1,
   "id": "b2d9fa83",
   "metadata": {},
   "outputs": [
    {
     "data": {
      "text/plain": [
       "str"
      ]
     },
     "execution_count": 1,
     "metadata": {},
     "output_type": "execute_result"
    }
   ],
   "source": [
    "X=123\n",
    "type(\"X\")"
   ]
  },
  {
   "cell_type": "code",
   "execution_count": 2,
   "id": "705c83dc",
   "metadata": {},
   "outputs": [
    {
     "data": {
      "text/plain": [
       "2"
      ]
     },
     "execution_count": 2,
     "metadata": {},
     "output_type": "execute_result"
    }
   ],
   "source": [
    "x=\"waahid\"\n",
    "x.count(\"a\")"
   ]
  },
  {
   "cell_type": "code",
   "execution_count": 3,
   "id": "1dba6bfc",
   "metadata": {},
   "outputs": [
    {
     "data": {
      "text/plain": [
       "'w######hid'"
      ]
     },
     "execution_count": 3,
     "metadata": {},
     "output_type": "execute_result"
    }
   ],
   "source": [
    "x=\"waahid\"\n",
    "x.replace(\"a\",\"###\")"
   ]
  },
  {
   "cell_type": "code",
   "execution_count": 4,
   "id": "4c4a1f8a",
   "metadata": {},
   "outputs": [
    {
     "data": {
      "text/plain": [
       "6"
      ]
     },
     "execution_count": 4,
     "metadata": {},
     "output_type": "execute_result"
    }
   ],
   "source": [
    "x=\"waahid ali\"\n",
    "x.index(\" \")"
   ]
  },
  {
   "cell_type": "code",
   "execution_count": 5,
   "id": "bebf0e5a",
   "metadata": {},
   "outputs": [
    {
     "data": {
      "text/plain": [
       "'waahid al'"
      ]
     },
     "execution_count": 5,
     "metadata": {},
     "output_type": "execute_result"
    }
   ],
   "source": [
    "x=\"waahid ali\"\n",
    "x[0:9]"
   ]
  },
  {
   "cell_type": "code",
   "execution_count": 6,
   "id": "32fa68dd",
   "metadata": {},
   "outputs": [
    {
     "data": {
      "text/plain": [
       "'waahid'"
      ]
     },
     "execution_count": 6,
     "metadata": {},
     "output_type": "execute_result"
    }
   ],
   "source": [
    "x=\"waahid ali\"\n",
    "x[:-4]"
   ]
  },
  {
   "cell_type": "code",
   "execution_count": 7,
   "id": "9f86e6a2",
   "metadata": {},
   "outputs": [
    {
     "data": {
      "text/plain": [
       "10"
      ]
     },
     "execution_count": 7,
     "metadata": {},
     "output_type": "execute_result"
    }
   ],
   "source": [
    "x=\"waahid ali\"\n",
    "len(x)"
   ]
  },
  {
   "cell_type": "code",
   "execution_count": 9,
   "id": "7975b66e",
   "metadata": {},
   "outputs": [
    {
     "data": {
      "text/plain": [
       "'WAAHID'"
      ]
     },
     "execution_count": 9,
     "metadata": {},
     "output_type": "execute_result"
    }
   ],
   "source": [
    "x=\"waahid ali\"\n",
    "x.upper()[:6]"
   ]
  },
  {
   "cell_type": "code",
   "execution_count": 10,
   "id": "c332b71b",
   "metadata": {},
   "outputs": [
    {
     "data": {
      "text/plain": [
       "'waahid ALI'"
      ]
     },
     "execution_count": 10,
     "metadata": {},
     "output_type": "execute_result"
    }
   ],
   "source": [
    "x=\"WAAHID ali\"\n",
    "x[0:].swapcase()"
   ]
  },
  {
   "cell_type": "code",
   "execution_count": 17,
   "id": "1968a515",
   "metadata": {},
   "outputs": [
    {
     "data": {
      "text/plain": [
       "'waahid'"
      ]
     },
     "execution_count": 17,
     "metadata": {},
     "output_type": "execute_result"
    }
   ],
   "source": [
    "x=\"WAAHID ali\"\n",
    "x.split()[0].swapcase()"
   ]
  },
  {
   "cell_type": "code",
   "execution_count": 19,
   "id": "37397075",
   "metadata": {},
   "outputs": [
    {
     "data": {
      "text/plain": [
       "'WAAHID              ali'"
      ]
     },
     "execution_count": 19,
     "metadata": {},
     "output_type": "execute_result"
    }
   ],
   "source": [
    "x=\"WAAHID \\tali\"\n",
    "x.expandtabs(20)\n"
   ]
  },
  {
   "cell_type": "code",
   "execution_count": null,
   "id": "658b5fbf",
   "metadata": {},
   "outputs": [
    {
     "data": {
      "text/plain": [
       "False"
      ]
     },
     "execution_count": 21,
     "metadata": {},
     "output_type": "execute_result"
    }
   ],
   "source": [
    "x=\"WAAHID ali\"\n",
    "x.isspace()"
   ]
  },
  {
   "cell_type": "code",
   "execution_count": null,
   "id": "f624c250",
   "metadata": {},
   "outputs": [
    {
     "data": {
      "text/plain": [
       "6"
      ]
     },
     "execution_count": 22,
     "metadata": {},
     "output_type": "execute_result"
    }
   ],
   "source": [
    "x=\"waahid ali\"\n",
    "x.find(\" \")"
   ]
  },
  {
   "cell_type": "code",
   "execution_count": 24,
   "id": "ba5d7658",
   "metadata": {},
   "outputs": [
    {
     "data": {
      "text/plain": [
       "7"
      ]
     },
     "execution_count": 24,
     "metadata": {},
     "output_type": "execute_result"
    }
   ],
   "source": [
    "x=\"waahid ali\"\n",
    "x.find(\"a\",5)"
   ]
  },
  {
   "cell_type": "code",
   "execution_count": 25,
   "id": "b339a3fd",
   "metadata": {},
   "outputs": [
    {
     "data": {
      "text/plain": [
       "-1"
      ]
     },
     "execution_count": 25,
     "metadata": {},
     "output_type": "execute_result"
    }
   ],
   "source": [
    "x=\"waahid ali\"\n",
    "x.find(\"v\")"
   ]
  },
  {
   "cell_type": "code",
   "execution_count": 26,
   "id": "65f3472d",
   "metadata": {},
   "outputs": [
    {
     "data": {
      "text/plain": [
       "'#######waahid#######'"
      ]
     },
     "execution_count": 26,
     "metadata": {},
     "output_type": "execute_result"
    }
   ],
   "source": [
    "x=\"waahid\"\n",
    "x.center(20,\"#\")"
   ]
  },
  {
   "cell_type": "code",
   "execution_count": 27,
   "id": "e51b807e",
   "metadata": {},
   "outputs": [
    {
     "data": {
      "text/plain": [
       "'00000waahid ali'"
      ]
     },
     "execution_count": 27,
     "metadata": {},
     "output_type": "execute_result"
    }
   ],
   "source": [
    "x=\"waahid ali\"\n",
    "x.zfill(15)"
   ]
  },
  {
   "cell_type": "code",
   "execution_count": 28,
   "id": "ca1b52f5",
   "metadata": {},
   "outputs": [
    {
     "data": {
      "text/plain": [
       "'waahid ali@@@@@@@@@@'"
      ]
     },
     "execution_count": 28,
     "metadata": {},
     "output_type": "execute_result"
    }
   ],
   "source": [
    "x=\"waahid ali\"\n",
    "x.ljust(20,\"@\")"
   ]
  },
  {
   "cell_type": "code",
   "execution_count": 29,
   "id": "9056c4d5",
   "metadata": {},
   "outputs": [
    {
     "data": {
      "text/plain": [
       "'@@@@@@@@@@@@@@@@@@@@waahid ali'"
      ]
     },
     "execution_count": 29,
     "metadata": {},
     "output_type": "execute_result"
    }
   ],
   "source": [
    "x=\"waahid ali\"\n",
    "x.rjust(30,\"@\")"
   ]
  },
  {
   "cell_type": "code",
   "execution_count": null,
   "id": "6a4260c6",
   "metadata": {},
   "outputs": [],
   "source": []
  },
  {
   "cell_type": "code",
   "execution_count": null,
   "id": "b7fae0cd",
   "metadata": {},
   "outputs": [],
   "source": []
  },
  {
   "cell_type": "code",
   "execution_count": null,
   "id": "e03510cc",
   "metadata": {},
   "outputs": [],
   "source": []
  },
  {
   "cell_type": "code",
   "execution_count": null,
   "id": "e9e96c35",
   "metadata": {},
   "outputs": [],
   "source": []
  },
  {
   "cell_type": "code",
   "execution_count": null,
   "id": "b3d50d79",
   "metadata": {},
   "outputs": [],
   "source": []
  },
  {
   "cell_type": "code",
   "execution_count": null,
   "id": "be863e54",
   "metadata": {},
   "outputs": [],
   "source": []
  }
 ],
 "metadata": {
  "kernelspec": {
   "display_name": "Python 3",
   "language": "python",
   "name": "python3"
  },
  "language_info": {
   "codemirror_mode": {
    "name": "ipython",
    "version": 3
   },
   "file_extension": ".py",
   "mimetype": "text/x-python",
   "name": "python",
   "nbconvert_exporter": "python",
   "pygments_lexer": "ipython3",
   "version": "3.13.5"
  }
 },
 "nbformat": 4,
 "nbformat_minor": 5
}
