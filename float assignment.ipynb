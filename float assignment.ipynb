{
 "cells": [
  {
   "cell_type": "code",
   "execution_count": 4,
   "id": "ba77552f",
   "metadata": {},
   "outputs": [
    {
     "name": "stdout",
     "output_type": "stream",
     "text": [
      "Question 1: Calculate the average of 3.14, 2.718, 1.618, 0.577\n",
      "Average of[3.14, 2.718, 1.618, 0.577] is :2.01325\n"
     ]
    }
   ],
   "source": [
    "#Question 1: Calculate the average of 3.14, 2.718, 1.618, 0.577\n",
    "print(\"Question 1: Calculate the average of 3.14, 2.718, 1.618, 0.577\")\n",
    "num=[3.14, 2.718, 1.618, 0.577]\n",
    "average = sum(num)/len(num)\n",
    "print(f\"Average of{num} is :{average}\")"
   ]
  },
  {
   "cell_type": "code",
   "execution_count": 6,
   "id": "4efebbd6",
   "metadata": {},
   "outputs": [
    {
     "name": "stdout",
     "output_type": "stream",
     "text": [
      "\n",
      "Question 2: Convert 98.6 Fahrenheit to Celsius\n",
      "98.6 in celcius is 37.0\n"
     ]
    }
   ],
   "source": [
    "# Question 2: Convert 98.6 Fahrenheit to Celsius (F = C * 9/5 + 32)\n",
    "print(\"\\nQuestion 2: Convert 98.6 Fahrenheit to Celsius\")\n",
    "f=98.6\n",
    "c=(f-32)*5/9\n",
    "print(f\"{f} in celcius is {c}\")\n"
   ]
  },
  {
   "cell_type": "code",
   "execution_count": 18,
   "id": "1ccccf47",
   "metadata": {},
   "outputs": [
    {
     "name": "stdout",
     "output_type": "stream",
     "text": [
      "\n",
      "Question 3: Calculate compound interest on $1000 at 5.5% for 3 years\n",
      "total amoumt: 1174.24\n"
     ]
    }
   ],
   "source": [
    "# Question 3: Calculate the compound interest on $1000 at 5.5% for 3 years\n",
    "print(\"\\nQuestion 3: Calculate compound interest on $1000 at 5.5% for 3 years\")\n",
    "principal=1000\n",
    "roi=5.5\n",
    "period=3\n",
    "total=principal*(1+roi/100)**period\n",
    "print(f\"total amoumt: {total:.2f}\")"
   ]
  },
  {
   "cell_type": "code",
   "execution_count": 17,
   "id": "9a54c910",
   "metadata": {},
   "outputs": [
    {
     "name": "stdout",
     "output_type": "stream",
     "text": [
      "\n",
      "Question 4: Find the hypotenuse of a right triangle with sides 3.5 and 4.2\n",
      "the hypotenuse of the triangle with sides 3.5,4.2 is 5.47\n"
     ]
    }
   ],
   "source": [
    "# Question 4: Find the hypotenuse of a right triangle with sides 3.5 and 4.2\n",
    "print(\"\\nQuestion 4: Find the hypotenuse of a right triangle with sides 3.5 and 4.2\")\n",
    "a=3.5\n",
    "b=4.2\n",
    "import math\n",
    "c=math.sqrt(a**2+b**2)\n",
    "print(f\"the hypotenuse of the triangle with sides {a},{b} is {c:.2f}\")"
   ]
  },
  {
   "cell_type": "code",
   "execution_count": 16,
   "id": "ddaacf0f",
   "metadata": {},
   "outputs": [
    {
     "name": "stdout",
     "output_type": "stream",
     "text": [
      "\n",
      "Question 5: Calculate the volume of a sphere with radius 7.8\n",
      "volume of circle with radius 7.8 is 632.74\n"
     ]
    }
   ],
   "source": [
    "# Question 5: Calculate the volume of a sphere with radius 7.8\n",
    "print(\"\\nQuestion 5: Calculate the volume of a sphere with radius 7.8\")\n",
    "import math\n",
    "r=7.8\n",
    "v=(4/3)*r**3\n",
    "print(f\"volume of circle with radius {r} is {v:.2f}\")"
   ]
  },
  {
   "cell_type": "code",
   "execution_count": 15,
   "id": "9d19aa89",
   "metadata": {},
   "outputs": [
    {
     "name": "stdout",
     "output_type": "stream",
     "text": [
      "\n",
      "Question 6: Round 3.14159 to 3 decimal places\n",
      "3.142\n"
     ]
    }
   ],
   "source": [
    "# Question 6: Round 3.14159 to 3 decimal places\n",
    "print(\"\\nQuestion 6: Round 3.14159 to 3 decimal places\")\n",
    "num=3.14159\n",
    "print(f\"{num:.3f}\")"
   ]
  },
  {
   "cell_type": "code",
   "execution_count": 20,
   "id": "1850b81f",
   "metadata": {},
   "outputs": [
    {
     "name": "stdout",
     "output_type": "stream",
     "text": [
      "\n",
      "Question 7: Calculate the percentage: 45 out of 67\n",
      "45 percentage of 67 is 67.16%\n"
     ]
    }
   ],
   "source": [
    "# Question 7: Calculate the percentage: 45 out of 67\n",
    "print(\"\\nQuestion 7: Calculate the percentage: 45 out of 67\")\n",
    "a=45\n",
    "b=67\n",
    "c=(a/b)*100\n",
    "print(f\"{a} percentage of {b} is {c:.2f}%\")\n"
   ]
  },
  {
   "cell_type": "code",
   "execution_count": 22,
   "id": "b2ff1210",
   "metadata": {},
   "outputs": [
    {
     "name": "stdout",
     "output_type": "stream",
     "text": [
      "\n",
      "Question 8: Find the square root of 23.456\n",
      "square root of given number 23.456 is 4.84\n"
     ]
    }
   ],
   "source": [
    "# Question 8: Find the square root of 23.456\n",
    "print(\"\\nQuestion 8: Find the square root of 23.456\")\n",
    "import math\n",
    "given_number=23.456\n",
    "square_root=math.sqrt(given_number)\n",
    "print(f\"square root of given number {given_number} is {square_root:.2f}\")"
   ]
  },
  {
   "cell_type": "code",
   "execution_count": 23,
   "id": "b55d834a",
   "metadata": {},
   "outputs": [
    {
     "name": "stdout",
     "output_type": "stream",
     "text": [
      "\n",
      "Question 9: Calculate simple interest: Principal=2500, Rate=6.5%, Time=2.5 years\n",
      "simple intrest is 406.25\n"
     ]
    }
   ],
   "source": [
    "# Question 9: Calculate the simple interest: Principal=2500, Rate=6.5%, Time=2.5 years\n",
    "print(\"\\nQuestion 9: Calculate simple interest: Principal=2500, Rate=6.5%, Time=2.5 years\")\n",
    "p=2500\n",
    "r=6.5\n",
    "t=2.5\n",
    "si=(p*r*t)/100\n",
    "print(f\"simple intrest is {si:.2f}\")"
   ]
  },
  {
   "cell_type": "code",
   "execution_count": 25,
   "id": "59fd5de5",
   "metadata": {},
   "outputs": [
    {
     "name": "stdout",
     "output_type": "stream",
     "text": [
      "\n",
      "Question 10: Convert 45.7 degrees to radians\n",
      "Radians: 0.80\n"
     ]
    }
   ],
   "source": [
    "# Question 10: Convert 45.7 degrees to radians\n",
    "print(\"\\nQuestion 10: Convert 45.7 degrees to radians\")\n",
    "import math\n",
    "degrees = 45.7\n",
    "radians = math.radians(degrees)\n",
    "print(f\"Radians: {radians:.2f}\")   "
   ]
  },
  {
   "cell_type": "code",
   "execution_count": null,
   "id": "0aa500f7",
   "metadata": {},
   "outputs": [],
   "source": []
  }
 ],
 "metadata": {
  "kernelspec": {
   "display_name": "Python 3",
   "language": "python",
   "name": "python3"
  },
  "language_info": {
   "codemirror_mode": {
    "name": "ipython",
    "version": 3
   },
   "file_extension": ".py",
   "mimetype": "text/x-python",
   "name": "python",
   "nbconvert_exporter": "python",
   "pygments_lexer": "ipython3",
   "version": "3.13.5"
  }
 },
 "nbformat": 4,
 "nbformat_minor": 5
}
