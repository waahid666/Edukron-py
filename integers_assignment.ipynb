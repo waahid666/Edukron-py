{
 "cells": [
  {
   "cell_type": "code",
   "execution_count": 8,
   "id": "41a87356",
   "metadata": {},
   "outputs": [
    {
     "name": "stdout",
     "output_type": "stream",
     "text": [
      "Question 1: Calculate the product of first 10 natural numbers\n",
      "3628800\n"
     ]
    }
   ],
   "source": [
    "# Question 1: Calculate the product of first 10 natural numbers\n",
    "print(\"Question 1: Calculate the product of first 10 natural numbers\")\n",
    "x = 1\n",
    "for i in range(1, 11):\n",
    "    x = x * i\n",
    "print(x)"
   ]
  },
  {
   "cell_type": "code",
   "execution_count": 13,
   "id": "6c83acec",
   "metadata": {},
   "outputs": [
    {
     "name": "stdout",
     "output_type": "stream",
     "text": [
      "\n",
      "Question 2: Find the remainder when 156 is divided by 7\n",
      "the reminder is 2\n"
     ]
    }
   ],
   "source": [
    "# Question 2: Find the remainder when 156 is divided by 7\n",
    "print(\"\\nQuestion 2: Find the remainder when 156 is divided by 7\")\n",
    "reminder=156%7\n",
    "print(f\"the reminder is {reminder}\")"
   ]
  },
  {
   "cell_type": "code",
   "execution_count": 12,
   "id": "e5476b02",
   "metadata": {},
   "outputs": [
    {
     "name": "stdout",
     "output_type": "stream",
     "text": [
      "\n",
      "Question 3: Calculate the square of 25\n",
      " The square of 25 is 625\n"
     ]
    }
   ],
   "source": [
    "# Question 3: Calculate the square of 25\n",
    "print(\"\\nQuestion 3: Calculate the square of 25\")\n",
    "square = 25 * 25\n",
    "print(f\" The square of 25 is {square}\")"
   ]
  },
  {
   "cell_type": "code",
   "execution_count": 16,
   "id": "4e10abd6",
   "metadata": {},
   "outputs": [
    {
     "name": "stdout",
     "output_type": "stream",
     "text": [
      "\n",
      "Question 4: Find the cube root of 125\n",
      "cube root of 125 is 4.999999999999999\n"
     ]
    }
   ],
   "source": [
    "# Question 4: Find the cube root of 125\n",
    "print(\"\\nQuestion 4: Find the cube root of 125\")\n",
    "cube_root=125**(1/3)\n",
    "print(f\"cube root of 125 is {cube_root}\")"
   ]
  },
  {
   "cell_type": "code",
   "execution_count": 23,
   "id": "70c2f163",
   "metadata": {},
   "outputs": [
    {
     "name": "stdout",
     "output_type": "stream",
     "text": [
      "\n",
      "Question 5: Calculate the sum of digits in number 12345\n",
      "the sum of digits is 1 \n",
      "the sum of digits is 3 \n",
      "the sum of digits is 6 \n",
      "the sum of digits is 10 \n",
      "the sum of digits is 15 \n"
     ]
    }
   ],
   "source": [
    "# Question 5: Calculate the sum of digits in number 12345\n",
    "print(\"\\nQuestion 5: Calculate the sum of digits in number 12345\")\n",
    "number=12345\n",
    "sum=0\n",
    "for i in str(number):\n",
    "    sum += int(i)\n",
    "    print(f\"the sum of digits is {sum} \")"
   ]
  },
  {
   "cell_type": "code",
   "execution_count": 26,
   "id": "d2cbde5d",
   "metadata": {},
   "outputs": [
    {
     "name": "stdout",
     "output_type": "stream",
     "text": [
      "\n",
      "Question 6: Check if 97 is a prime number\n"
     ]
    },
    {
     "ename": "NameError",
     "evalue": "name 'is_prime' is not defined",
     "output_type": "error",
     "traceback": [
      "\u001b[31m---------------------------------------------------------------------------\u001b[39m",
      "\u001b[31mNameError\u001b[39m                                 Traceback (most recent call last)",
      "\u001b[36mCell\u001b[39m\u001b[36m \u001b[39m\u001b[32mIn[26]\u001b[39m\u001b[32m, line 4\u001b[39m\n\u001b[32m      2\u001b[39m \u001b[38;5;28mprint\u001b[39m(\u001b[33m\"\u001b[39m\u001b[38;5;130;01m\\n\u001b[39;00m\u001b[33mQuestion 6: Check if 97 is a prime number\u001b[39m\u001b[33m\"\u001b[39m)\n\u001b[32m      3\u001b[39m given_number=\u001b[32m97\u001b[39m\n\u001b[32m----> \u001b[39m\u001b[32m4\u001b[39m \u001b[38;5;28;01mif\u001b[39;00m \u001b[43mis_prime\u001b[49m(given_number):\n\u001b[32m      5\u001b[39m     \u001b[38;5;28mprint\u001b[39m(\u001b[33mf\u001b[39m\u001b[33m\"\u001b[39m\u001b[38;5;132;01m{\u001b[39;00mgiven_number\u001b[38;5;132;01m}\u001b[39;00m\u001b[33m is a prime number\u001b[39m\u001b[33m\"\u001b[39m)\n\u001b[32m      6\u001b[39m \u001b[38;5;28;01melse\u001b[39;00m:\n",
      "\u001b[31mNameError\u001b[39m: name 'is_prime' is not defined"
     ]
    }
   ],
   "source": [
    "# Question 6: Check if 97 is a prime number\n",
    "print(\"\\nQuestion 6: Check if 97 is a prime number\")\n",
    "given_number=97\n",
    "if is_prime(given_number):\n",
    "    print(f\"{given_number} is a prime number\")\n",
    "else:\n",
    "    print(f\"{given_number}is not a prime number\")"
   ]
  },
  {
   "cell_type": "code",
   "execution_count": 51,
   "id": "a3fa9d0a",
   "metadata": {},
   "outputs": [
    {
     "name": "stdout",
     "output_type": "stream",
     "text": [
      "\n",
      "Question 7: Find the factorial of 8\n",
      "factorial of 8 is: {1}\n",
      "factorial of 8 is: {2}\n",
      "factorial of 8 is: {6}\n",
      "factorial of 8 is: {24}\n",
      "factorial of 8 is: {120}\n",
      "factorial of 8 is: {720}\n",
      "factorial of 8 is: {5040}\n",
      "factorial of 8 is: {40320}\n"
     ]
    }
   ],
   "source": [
    "# Question 7: Find the factorial of 8\n",
    "print(\"\\nQuestion 7: Find the factorial of 8\")\n",
    "fact = 1\n",
    "for i in range(1,9): # from 1 to 10\n",
    "    fact *= i\n",
    "    print(f\"factorial of 8 is:\",{fact})"
   ]
  },
  {
   "cell_type": "code",
   "execution_count": 42,
   "id": "721a16f5",
   "metadata": {},
   "outputs": [
    {
     "name": "stdout",
     "output_type": "stream",
     "text": [
      "\n",
      "Question 8: Calculate the average of numbers: 15, 23, 31, 42, 56\n"
     ]
    },
    {
     "ename": "TypeError",
     "evalue": "'int' object is not callable",
     "output_type": "error",
     "traceback": [
      "\u001b[31m---------------------------------------------------------------------------\u001b[39m",
      "\u001b[31mTypeError\u001b[39m                                 Traceback (most recent call last)",
      "\u001b[36mCell\u001b[39m\u001b[36m \u001b[39m\u001b[32mIn[42]\u001b[39m\u001b[32m, line 4\u001b[39m\n\u001b[32m      2\u001b[39m \u001b[38;5;28mprint\u001b[39m(\u001b[33m\"\u001b[39m\u001b[38;5;130;01m\\n\u001b[39;00m\u001b[33mQuestion 8: Calculate the average of numbers: 15, 23, 31, 42, 56\u001b[39m\u001b[33m\"\u001b[39m)\n\u001b[32m      3\u001b[39m num = \u001b[32m15\u001b[39m,\u001b[32m23\u001b[39m,\u001b[32m31\u001b[39m,\u001b[32m42\u001b[39m,\u001b[32m56\u001b[39m\n\u001b[32m----> \u001b[39m\u001b[32m4\u001b[39m avg = \u001b[38;5;28;43msum\u001b[39;49m\u001b[43m(\u001b[49m\u001b[43mnum\u001b[49m\u001b[43m)\u001b[49m/\u001b[38;5;28mlen\u001b[39m(num)\n\u001b[32m      5\u001b[39m \u001b[38;5;28mprint\u001b[39m(\u001b[33mf\u001b[39m\u001b[33m\"\u001b[39m\u001b[33mThe average of the numbers is \u001b[39m\u001b[38;5;132;01m{\u001b[39;00mavg\u001b[38;5;132;01m}\u001b[39;00m\u001b[33m\"\u001b[39m)\n",
      "\u001b[31mTypeError\u001b[39m: 'int' object is not callable"
     ]
    }
   ],
   "source": [
    "# Question 8: Calculate the average of numbers: 15, 23, 31, 42, 56\n",
    "print(\"\\nQuestion 8: Calculate the average of numbers: 15, 23, 31, 42, 56\")\n",
    "num = 15,23,31,42,56\n",
    "avg = sum(num)/len(num)\n",
    "print(f\"The average of the numbers is {avg}\")"
   ]
  },
  {
   "cell_type": "code",
   "execution_count": 43,
   "id": "c5c95443",
   "metadata": {},
   "outputs": [
    {
     "name": "stdout",
     "output_type": "stream",
     "text": [
      "\n",
      "Question 9: Find the greatest common divisor (GCD) of 48 and 36\n",
      "the gcd is 12\n"
     ]
    }
   ],
   "source": [
    "# Question 9: Find the greatest common divisor (GCD) of 48 and 36\n",
    "print(\"\\nQuestion 9: Find the greatest common divisor (GCD) of 48 and 36\")\n",
    "import math\n",
    "gcd=math.gcd(48, 36)\n",
    "print(f\"the gcd is {gcd}\")"
   ]
  },
  {
   "cell_type": "code",
   "execution_count": 47,
   "id": "96493625",
   "metadata": {},
   "outputs": [
    {
     "name": "stdout",
     "output_type": "stream",
     "text": [
      "\n",
      "Question 10: Calculate the sum of first 20 odd numbers\n",
      "The sum of first 20 odd numbers is 400 \n"
     ]
    }
   ],
   "source": [
    "# Question 10: Calculate the sum of first 20 odd numbers\n",
    "print(\"\\nQuestion 10: Calculate the sum of first 20 odd numbers\")\n",
    "num = 20\n",
    "sum = 0\n",
    "for i in range(1,num*2,2):\n",
    "    sum += i\n",
    "print(f\"The sum of first {num} odd numbers is {sum} \")"
   ]
  },
  {
   "cell_type": "code",
   "execution_count": null,
   "id": "36a33d31",
   "metadata": {},
   "outputs": [],
   "source": []
  },
  {
   "cell_type": "code",
   "execution_count": null,
   "id": "b4a23940",
   "metadata": {},
   "outputs": [],
   "source": []
  }
 ],
 "metadata": {
  "kernelspec": {
   "display_name": "Python 3",
   "language": "python",
   "name": "python3"
  },
  "language_info": {
   "codemirror_mode": {
    "name": "ipython",
    "version": 3
   },
   "file_extension": ".py",
   "mimetype": "text/x-python",
   "name": "python",
   "nbconvert_exporter": "python",
   "pygments_lexer": "ipython3",
   "version": "3.13.5"
  }
 },
 "nbformat": 4,
 "nbformat_minor": 5
}
