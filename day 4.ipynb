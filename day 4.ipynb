{
 "cells": [
  {
   "cell_type": "code",
   "execution_count": 1,
   "id": "cab674aa",
   "metadata": {},
   "outputs": [
    {
     "data": {
      "text/plain": [
       "list"
      ]
     },
     "execution_count": 1,
     "metadata": {},
     "output_type": "execute_result"
    }
   ],
   "source": [
    "x=[1,2.4,\"ali\",9+2j]\n",
    "\n",
    "type(x)"
   ]
  },
  {
   "cell_type": "code",
   "execution_count": 3,
   "id": "f5a44706",
   "metadata": {},
   "outputs": [
    {
     "data": {
      "text/plain": [
       "str"
      ]
     },
     "execution_count": 3,
     "metadata": {},
     "output_type": "execute_result"
    }
   ],
   "source": [
    "type(x[2])"
   ]
  },
  {
   "cell_type": "code",
   "execution_count": 4,
   "id": "84056657",
   "metadata": {},
   "outputs": [
    {
     "data": {
      "text/plain": [
       "[1, 2.4, 'edukron', (9+2j)]"
      ]
     },
     "execution_count": 4,
     "metadata": {},
     "output_type": "execute_result"
    }
   ],
   "source": [
    "x[2]=\"edukron\"\n",
    "x"
   ]
  },
  {
   "cell_type": "code",
   "execution_count": 8,
   "id": "3dd19c13",
   "metadata": {},
   "outputs": [
    {
     "data": {
      "text/plain": [
       "'ING'"
      ]
     },
     "execution_count": 8,
     "metadata": {},
     "output_type": "execute_result"
    }
   ],
   "source": [
    "x=[1,2,3,[\"data\",\"science\",\"machine\"],[\"learning\"]]\n",
    "x[-1][0][-3:].upper()"
   ]
  },
  {
   "cell_type": "code",
   "execution_count": null,
   "id": "498bd8c7",
   "metadata": {},
   "outputs": [
    {
     "data": {
      "text/plain": [
       "45"
      ]
     },
     "execution_count": 21,
     "metadata": {},
     "output_type": "execute_result"
    }
   ],
   "source": [
    "workers_attendence=[#week 1\n",
    "    [\"day1\",[40,30,90,60]],\n",
    "     [\"day2\",[30,20,80,45]],\n",
    "      [\"day3\",[29,33,56,78]]]\n",
    "#day 2 last shift\n",
    "workers_attendence[1][1][3]\n"
   ]
  },
  {
   "cell_type": "code",
   "execution_count": null,
   "id": "35ab0bf8",
   "metadata": {},
   "outputs": [
    {
     "data": {
      "text/plain": [
       "'DAY2'"
      ]
     },
     "execution_count": 22,
     "metadata": {},
     "output_type": "execute_result"
    }
   ],
   "source": [
    "#day2=DAY2\n",
    "workers_attendence[-2][0].upper()"
   ]
  },
  {
   "cell_type": "code",
   "execution_count": 55,
   "id": "3653fdd4",
   "metadata": {},
   "outputs": [],
   "source": [
    "workers_attendence=[#week 1\n",
    "    [\"day1\",[40,30,90,60]],\n",
    "     [\"day2\",[30,20,80,45]],\n",
    "      [\"day3\",[29,33,56,78]]]"
   ]
  },
  {
   "cell_type": "code",
   "execution_count": 26,
   "id": "6af61fe6",
   "metadata": {},
   "outputs": [],
   "source": [
    "workers_attendence.append([\"day4\",[10,46,35,68]])"
   ]
  },
  {
   "cell_type": "code",
   "execution_count": 37,
   "id": "be77b9fe",
   "metadata": {},
   "outputs": [],
   "source": [
    "name=[1,2,3,4]\n",
    "name.append(\"ali\")"
   ]
  },
  {
   "cell_type": "code",
   "execution_count": null,
   "id": "9de7529f",
   "metadata": {},
   "outputs": [],
   "source": [
    "x=[20,1,34,45,66,57]\n",
    "x.sort()  "
   ]
  },
  {
   "cell_type": "code",
   "execution_count": 36,
   "id": "23dccd8f",
   "metadata": {},
   "outputs": [
    {
     "data": {
      "text/plain": [
       "4"
      ]
     },
     "execution_count": 36,
     "metadata": {},
     "output_type": "execute_result"
    }
   ],
   "source": [
    "x=[1,1,2,3,4,4,4,4,4,1,1,9]\n",
    "x.count(1)"
   ]
  },
  {
   "cell_type": "code",
   "execution_count": 43,
   "id": "1f718321",
   "metadata": {},
   "outputs": [],
   "source": [
    "x=[1,1,2,3,4,4,4,4,4,1,1,9]\n",
    "x.remove(9)"
   ]
  },
  {
   "cell_type": "code",
   "execution_count": 54,
   "id": "423c5d1e",
   "metadata": {},
   "outputs": [
    {
     "data": {
      "text/plain": [
       "33.44"
      ]
     },
     "execution_count": 54,
     "metadata": {},
     "output_type": "execute_result"
    }
   ],
   "source": [
    "data={\n",
    "   \"lat\":33.44,\n",
    "   \"lon\":-94.04,\n",
    "   \"timezone\":\"America/Chicago\",\n",
    "   \"timezone_offset\":-18000,\n",
    "   \"current\":{\n",
    "      \"dt\":1684929490,\n",
    "      \"sunrise\":1684926645,\n",
    "      \"sunset\":1684977332,\n",
    "      \"temp\":292.55,\n",
    "      \"feels_like\":292.87,\n",
    "      \"pressure\":1014,\n",
    "      \"humidity\":89,\n",
    "      \"dew_point\":290.69,\n",
    "      \"uvi\":0.16,\n",
    "      \"clouds\":53,\n",
    "      \"visibility\":10000,\n",
    "      \"wind_speed\":3.13,\n",
    "      \"wind_deg\":93,\n",
    "      \"wind_gust\":6.71,\n",
    "      \"weather\":[\n",
    "         {\n",
    "            \"id\":803,\n",
    "            \"main\":\"Clouds\",\n",
    "            \"description\":\"broken clouds\",\n",
    "            \"icon\":\"04d\"\n",
    "         }\n",
    "      ]\n",
    "   },\n",
    "   \"minutely\":[\n",
    "      {\n",
    "         \"dt\":1684929540,\n",
    "         \"precipitation\":0\n",
    "      },\n",
    "      ...\n",
    "   ],\n",
    "   \"hourly\":[\n",
    "      {\n",
    "         \"dt\":1684926000,\n",
    "         \"temp\":292.01,\n",
    "         \"feels_like\":292.33,\n",
    "         \"pressure\":1014,\n",
    "         \"humidity\":91,\n",
    "         \"dew_point\":290.51,\n",
    "         \"uvi\":0,\n",
    "         \"clouds\":54,\n",
    "         \"visibility\":10000,\n",
    "         \"wind_speed\":2.58,\n",
    "         \"wind_deg\":86,\n",
    "         \"wind_gust\":5.88,\n",
    "         \"weather\":[\n",
    "            {\n",
    "               \"id\":803,\n",
    "               \"main\":\"Clouds\",\n",
    "               \"description\":\"broken clouds\",\n",
    "               \"icon\":\"04n\"\n",
    "            }\n",
    "         ],\n",
    "         \"pop\":0.15\n",
    "      },\n",
    "      ...\n",
    "   ],\n",
    "   \"daily\":[\n",
    "      {\n",
    "         \"dt\":1684951200,\n",
    "         \"sunrise\":1684926645,\n",
    "         \"sunset\":1684977332,\n",
    "         \"moonrise\":1684941060,\n",
    "         \"moonset\":1684905480,\n",
    "         \"moon_phase\":0.16,\n",
    "         \"summary\":\"Expect a day of partly cloudy with rain\",\n",
    "         \"temp\":{\n",
    "            \"day\":299.03,\n",
    "            \"min\":290.69,\n",
    "            \"max\":300.35,\n",
    "            \"night\":291.45,\n",
    "            \"eve\":297.51,\n",
    "            \"morn\":292.55\n",
    "         },\n",
    "         \"feels_like\":{\n",
    "            \"day\":299.21,\n",
    "            \"night\":291.37,\n",
    "            \"eve\":297.86,\n",
    "            \"morn\":292.87\n",
    "         },\n",
    "         \"pressure\":1016,\n",
    "         \"humidity\":59,\n",
    "         \"dew_point\":290.48,\n",
    "         \"wind_speed\":3.98,\n",
    "         \"wind_deg\":76,\n",
    "         \"wind_gust\":8.92,\n",
    "         \"weather\":[\n",
    "            {\n",
    "               \"id\":500,\n",
    "               \"main\":\"Rain\",\n",
    "               \"description\":\"light rain\",\n",
    "               \"icon\":\"10d\"\n",
    "            }\n",
    "         ],\n",
    "         \"clouds\":92,\n",
    "         \"pop\":0.47,\n",
    "         \"rain\":0.15,\n",
    "         \"uvi\":9.23\n",
    "      },\n",
    "      ...\n",
    "   ],\n",
    "    \"alerts\": [\n",
    "    {\n",
    "      \"sender_name\": \"NWS Philadelphia - Mount Holly (New Jersey, Delaware, Southeastern Pennsylvania)\",\n",
    "      \"event\": \"Small Craft Advisory\",\n",
    "      \"start\": 1684952747,\n",
    "      \"end\": 1684988747,\n",
    "      \"description\": \"...SMALL CRAFT ADVISORY REMAINS IN EFFECT FROM 5 PM THIS\\nAFTERNOON TO 3 AM EST FRIDAY...\\n* WHAT...North winds 15 to 20 kt with gusts up to 25 kt and seas\\n3 to 5 ft expected.\\n* WHERE...Coastal waters from Little Egg Inlet to Great Egg\\nInlet NJ out 20 nm, Coastal waters from Great Egg Inlet to\\nCape May NJ out 20 nm and Coastal waters from Manasquan Inlet\\nto Little Egg Inlet NJ out 20 nm.\\n* WHEN...From 5 PM this afternoon to 3 AM EST Friday.\\n* IMPACTS...Conditions will be hazardous to small craft.\",\n",
    "      \"tags\": [\n",
    "\n",
    "      ]\n",
    "    },\n",
    "    ...\n",
    "  ]}\n",
    "data[\"lat\"]"
   ]
  }
 ],
 "metadata": {
  "kernelspec": {
   "display_name": "Python 3",
   "language": "python",
   "name": "python3"
  },
  "language_info": {
   "codemirror_mode": {
    "name": "ipython",
    "version": 3
   },
   "file_extension": ".py",
   "mimetype": "text/x-python",
   "name": "python",
   "nbconvert_exporter": "python",
   "pygments_lexer": "ipython3",
   "version": "3.13.5"
  }
 },
 "nbformat": 4,
 "nbformat_minor": 5
}
